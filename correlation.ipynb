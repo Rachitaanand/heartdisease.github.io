df_corr = df[con_cols].corr().transpose()
df_corr
