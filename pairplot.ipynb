#### Pairplot according to target variable - one plot to rule them all###

sns.pairplot(df,hue='output',palette = ["#8000ff","#da8829"])
plt.show()
